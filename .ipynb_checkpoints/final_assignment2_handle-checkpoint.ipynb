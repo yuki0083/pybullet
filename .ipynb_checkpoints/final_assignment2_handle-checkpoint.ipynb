{
 "cells": [
  {
   "cell_type": "markdown",
   "metadata": {
    "colab_type": "text",
    "id": "DOIolhBd6TCw"
   },
   "source": [
    "# PPOとSACを実装し，学習させてみよう！\n",
    "\n",
    "\n",
    " この演習では，**Proximal Policy Optimization(PPO)**[[1]](#scrollTo=HOq7n-OJboPr)と**Soft Actor-Critic(SAC)**[[2,3]](#scrollTo=HOq7n-OJboPr)を実装し，`InvertedPendulumBulletEnv-v0` と `HalfCheetahBulletEnv-v0` の2つの環境で学習させていきます．\n",
    "\n",
    "0. [準備](#scrollTo=TZIymOlD4K7n)\n",
    "1. [タスクの概要](#scrollTo=c4eanX0pKgcr)\n",
    "2. [予備知識](#scrollTo=_7awwWKC4UXj)\n",
    "3. [Proximal Policy Optimization(PPO)の実装](#scrollTo=e6tuB-Ed4ULy)\n",
    "4. [Soft Actor-Critic(SAC)の実装](#scrollTo=o5ODWC9LMx2Q)\n",
    "5. [参考文献](#scrollTo=HOq7n-OJboPr)\n"
   ]
  },
  {
   "cell_type": "markdown",
   "metadata": {
    "colab_type": "text",
    "id": "TZIymOlD4K7n"
   },
   "source": [
    "## 0.準備\n",
    "\n",
    "演習を行うために必要な準備をしていきましょう．"
   ]
  },
  {
   "cell_type": "code",
   "execution_count": 1,
   "metadata": {
    "colab": {
     "base_uri": "https://localhost:8080/",
     "height": 35
    },
    "colab_type": "code",
    "executionInfo": {
     "elapsed": 1018,
     "status": "ok",
     "timestamp": 1599831068189,
     "user": {
      "displayName": "山田悠貴",
      "photoUrl": "https://lh4.googleusercontent.com/-qjO3eS8zVqE/AAAAAAAAAAI/AAAAAAAAAYE/46U-7XBkpHM/s64/photo.jpg",
      "userId": "04773754472221904960"
     },
     "user_tz": -540
    },
    "id": "QYk7QQzJwLSA",
    "outputId": "d5b5bf4a-d1e5-415d-d229-6b8832207e20"
   },
   "outputs": [
    {
     "name": "stdout",
     "output_type": "stream",
     "text": [
      "Drive already mounted at /content/drive; to attempt to forcibly remount, call drive.mount(\"/content/drive\", force_remount=True).\n"
     ]
    }
   ],
   "source": [
    "from google.colab import drive\n",
    "drive.mount('/content/drive')"
   ]
  },
  {
   "cell_type": "code",
   "execution_count": 2,
   "metadata": {
    "colab": {},
    "colab_type": "code",
    "executionInfo": {
     "elapsed": 1910,
     "status": "ok",
     "timestamp": 1599831069105,
     "user": {
      "displayName": "山田悠貴",
      "photoUrl": "https://lh4.googleusercontent.com/-qjO3eS8zVqE/AAAAAAAAAAI/AAAAAAAAAYE/46U-7XBkpHM/s64/photo.jpg",
      "userId": "04773754472221904960"
     },
     "user_tz": -540
    },
    "id": "SH5JCHGfPHDC"
   },
   "outputs": [],
   "source": [
    "# 必要なライブラリのインポート．\n",
    "from abc import ABC, abstractmethod #抽象基底クラス\n",
    "import os\n",
    "import glob\n",
    "from collections import deque\n",
    "from time import time\n",
    "from datetime import timedelta\n",
    "import pickle\n",
    "from base64 import b64encode\n",
    "import math\n",
    "import numpy as np\n",
    "import torch\n",
    "from torch import nn\n",
    "from torch.distributions import Normal\n",
    "import torch.nn.functional as F\n",
    "import gym\n",
    "import matplotlib.pyplot as plt\n",
    "#from IPython.display import HTML\n",
    "\n",
    "#from gym import wrappers\n",
    "\n",
    "# Gymの警告を一部無視する．\n",
    "gym.logger.set_level(40)\n",
    "# matplotlibをColab上で描画するためのコマンド．\n",
    "#%matplotlib inline                  #メモリーの節約に役立つ?"
   ]
  },
  {
   "cell_type": "markdown",
   "metadata": {
    "colab_type": "text",
    "id": "Uzb7R2c24ZfC"
   },
   "source": [
    "この課題では，[PyBullet](https://github.com/bulletphysics/bullet3)を用いて物理シミュレーションを行います．PyBulletは `pip` を用いてインストールしましょう．"
   ]
  },
  {
   "cell_type": "code",
   "execution_count": 3,
   "metadata": {
    "colab": {
     "base_uri": "https://localhost:8080/",
     "height": 35
    },
    "colab_type": "code",
    "executionInfo": {
     "elapsed": 4488,
     "status": "ok",
     "timestamp": 1599831071698,
     "user": {
      "displayName": "山田悠貴",
      "photoUrl": "https://lh4.googleusercontent.com/-qjO3eS8zVqE/AAAAAAAAAAI/AAAAAAAAAYE/46U-7XBkpHM/s64/photo.jpg",
      "userId": "04773754472221904960"
     },
     "user_tz": -540
    },
    "id": "vrB7DGnRfEbx",
    "outputId": "a67721ab-5ad2-437a-b116-d9362b7e78a3"
   },
   "outputs": [
    {
     "name": "stdout",
     "output_type": "stream",
     "text": [
      "Requirement already satisfied: pybullet in /usr/local/lib/python3.6/dist-packages (2.9.6)\n"
     ]
    }
   ],
   "source": [
    "# pipを用いてPyBulletをインストール．\n",
    "!pip install pybullet\n",
    "import pybullet_envs"
   ]
  },
  {
   "cell_type": "markdown",
   "metadata": {
    "colab_type": "text",
    "id": "AOzZ7OMh6D3F"
   },
   "source": [
    "ランタイムをGPUに変更していますか？GPUを利用できているか，きちんと確認しましょう．"
   ]
  },
  {
   "cell_type": "markdown",
   "metadata": {
    "colab_type": "text",
    "id": "c4eanX0pKgcr"
   },
   "source": [
    "## 1.タスクの概要\n",
    "\n",
    "この演習で利用するタスク `InvertedPendulumBulletEnv-v0` と `HalfCheetahBulletEnv-v0` の環境を可視化してみましょう！\n",
    "\n",
    "1ステップごとにレンダリングを行い，リアルタイムで可視化することも可能ですが，colab上では非常にカクカクしてしまいます．この演習では1エピソード全体をmp4に保存してから再生することにします．まず可視化のための関数を定義します．"
   ]
  },
  {
   "cell_type": "code",
   "execution_count": 4,
   "metadata": {
    "colab": {},
    "colab_type": "code",
    "executionInfo": {
     "elapsed": 4475,
     "status": "ok",
     "timestamp": 1599831071699,
     "user": {
      "displayName": "山田悠貴",
      "photoUrl": "https://lh4.googleusercontent.com/-qjO3eS8zVqE/AAAAAAAAAAI/AAAAAAAAAYE/46U-7XBkpHM/s64/photo.jpg",
      "userId": "04773754472221904960"
     },
     "user_tz": -540
    },
    "id": "ZkgUuloVKlDq"
   },
   "outputs": [],
   "source": [
    "def wrap_monitor(env):\n",
    "    \"\"\" Gymの環境をmp4に保存するために，環境をラップする関数． \"\"\"\n",
    "    return wrappers.Monitor(env, '/tmp/monitor', video_callable=lambda x: True, force=True)\n",
    "\n",
    "def play_mp4():\n",
    "    \"\"\" 保存したmp4をHTMLに埋め込み再生する関数． \"\"\"\n",
    "    path = glob.glob(os.path.join('/tmp/monitor', '*.mp4'))[0]\n",
    "    mp4 = open(path, 'rb').read()\n",
    "    url = \"data:video/mp4;base64,\" + b64encode(mp4).decode()\n",
    "    return HTML(\"\"\"<video width=400 controls><source src=\"%s\" type=\"video/mp4\"></video>\"\"\" % url)"
   ]
  },
  {
   "cell_type": "code",
   "execution_count": 5,
   "metadata": {
    "colab": {
     "base_uri": "https://localhost:8080/",
     "height": 35
    },
    "colab_type": "code",
    "executionInfo": {
     "elapsed": 4462,
     "status": "ok",
     "timestamp": 1599831071700,
     "user": {
      "displayName": "山田悠貴",
      "photoUrl": "https://lh4.googleusercontent.com/-qjO3eS8zVqE/AAAAAAAAAAI/AAAAAAAAAYE/46U-7XBkpHM/s64/photo.jpg",
      "userId": "04773754472221904960"
     },
     "user_tz": -540
    },
    "id": "piL37cHknI-2",
    "outputId": "8a3ef0d4-aeb0-4aa8-cf62-4512960d0131"
   },
   "outputs": [
    {
     "name": "stdout",
     "output_type": "stream",
     "text": [
      "/content/drive/My Drive/pybullet/gym-pybullet\n"
     ]
    }
   ],
   "source": [
    "%cd /content/drive/My Drive/pybullet/gym-pybullet"
   ]
  },
  {
   "cell_type": "code",
   "execution_count": 6,
   "metadata": {
    "colab": {
     "base_uri": "https://localhost:8080/",
     "height": 70
    },
    "colab_type": "code",
    "executionInfo": {
     "elapsed": 4446,
     "status": "ok",
     "timestamp": 1599831071701,
     "user": {
      "displayName": "山田悠貴",
      "photoUrl": "https://lh4.googleusercontent.com/-qjO3eS8zVqE/AAAAAAAAAAI/AAAAAAAAAYE/46U-7XBkpHM/s64/photo.jpg",
      "userId": "04773754472221904960"
     },
     "user_tz": -540
    },
    "id": "BwbQ9EpZRZNw",
    "outputId": "752b5116-51ce-412b-b7ad-c8c9e8f9899f"
   },
   "outputs": [
    {
     "name": "stdout",
     "output_type": "stream",
     "text": [
      "observation space camera:  Box(84, 84, 1)\n",
      "observation space cordinate:  Box(2,)\n",
      "action space:  Box(1,)\n"
     ]
    }
   ],
   "source": [
    "import gym_pybullet\n",
    "\n",
    "\n",
    "env = gym.make('pybullet_handle-v0')\n",
    "#env = wrap_monitor(env)\n",
    "\n",
    "print('observation space camera: ', env.observation_space_camera)\n",
    "print('observation space cordinate: ', env.observation_space_cordinate)\n",
    "print('action space: ', env.action_space)\n",
    "\n",
    "env.reset()\n",
    "done = False\n",
    "\"\"\"\n",
    "# 終了シグナル(done=True)が返ってくるまで，ランダムに環境を動かす．\n",
    "while (not done):\n",
    "  action = env.action_space.sample()\n",
    "  #_, _, done = env.step(action)\n",
    "  _, _, done, _ = env.step(action)\n",
    "\"\"\"\n",
    "\n",
    "del env\n",
    "\n",
    "#TODO: wrap_monitorしてもmp4ファイルが作られない\n",
    "#play_mp4()\n"
   ]
  },
  {
   "cell_type": "markdown",
   "metadata": {
    "colab_type": "text",
    "id": "_7awwWKC4UXj"
   },
   "source": [
    "## 2.予備知識"
   ]
  },
  {
   "cell_type": "markdown",
   "metadata": {
    "colab_type": "text",
    "id": "HJnRVbjUsRuz"
   },
   "source": [
    "### 2.1 講義内容のおさらい"
   ]
  },
  {
   "cell_type": "markdown",
   "metadata": {
    "colab_type": "text",
    "id": "i3YVPO9cxqHt"
   },
   "source": [
    "**TODO: 強化学習全般(方策勾配法・Actor-Critic)やPPO・SACに関する簡単な説明**"
   ]
  },
  {
   "cell_type": "markdown",
   "metadata": {
    "colab_type": "text",
    "id": "tSrsyV95sZSw"
   },
   "source": [
    "### 2.2 実装の概要"
   ]
  },
  {
   "cell_type": "markdown",
   "metadata": {
    "colab_type": "text",
    "id": "1CY-FFyFscwx"
   },
   "source": [
    "この演習では，一定のステップ間データ収集・学習・評価を繰り返す `Trainer` クラスを利用します．今回は実装済みのものを利用しますが，このクラスでは強化学習の大まかな流れを実装しているので，ぜひ参照してみてください．"
   ]
  },
  {
   "cell_type": "code",
   "execution_count": 7,
   "metadata": {
    "colab": {},
    "colab_type": "code",
    "executionInfo": {
     "elapsed": 4433,
     "status": "ok",
     "timestamp": 1599831071702,
     "user": {
      "displayName": "山田悠貴",
      "photoUrl": "https://lh4.googleusercontent.com/-qjO3eS8zVqE/AAAAAAAAAAI/AAAAAAAAAYE/46U-7XBkpHM/s64/photo.jpg",
      "userId": "04773754472221904960"
     },
     "user_tz": -540
    },
    "id": "2csWXzTcsgET"
   },
   "outputs": [],
   "source": [
    "class Trainer:\n",
    "\n",
    "    def __init__(self, env, env_test, algo, seed=0, num_steps=10**6, eval_interval=10**4, num_eval_episodes=3,save_interval=10**6):#####################################num_stepsとeval_stepを小さく\n",
    "\n",
    "        self.env = env #環境\n",
    "        self.env_test = env_test #テスト環境?\n",
    "        self.algo = algo #アルゴリズム\n",
    "\n",
    "        # 環境の乱数シードを設定する．\n",
    "        self.env.seed(seed)\n",
    "        self.env_test.seed(2**31-seed)\n",
    "\n",
    "        # 平均収益を保存するための辞書．\n",
    "        self.returns = {'step': [], 'return': []}\n",
    "\n",
    "        # データ収集を行うステップ数．\n",
    "        self.num_steps = num_steps\n",
    "        # 評価の間のステップ数(インターバル)．\n",
    "        self.eval_interval = eval_interval\n",
    "        # 評価を行うエピソード数．\n",
    "        self.num_eval_episodes = num_eval_episodes\n",
    "        #モデルの重みを保存するステップ数(インターバル)\n",
    "        self.save_interval = save_interval #######################################################\n",
    "\n",
    "    def train(self):\n",
    "        \"\"\" num_stepsステップの間，データ収集・学習・評価を繰り返す． \"\"\"\n",
    "\n",
    "        # 学習開始の時間\n",
    "        self.start_time = time()\n",
    "        # エピソードのステップ数．\n",
    "        t = 0\n",
    "\n",
    "        # 環境を初期化する．\n",
    "        state = self.env.reset() #resetでもstateを返す\n",
    "\n",
    "        for steps in range(1, self.num_steps + 1):#1～num.step\n",
    "            # 環境(self.env)，現在の状態(state)，現在のエピソードのステップ数(t)，今までのトータルのステップ数(steps)を\n",
    "            # アルゴリズムに渡し，状態・エピソードのステップ数を更新する．\n",
    "            state, t = self.algo.step(self.env, state, t, steps)\n",
    "\n",
    "            #print(steps)\n",
    "\n",
    "            # アルゴリズムが準備できていれば，1回学習を行う．\n",
    "            if self.algo.is_update(steps):\n",
    "                self.algo.update()#学習\n",
    "\n",
    "            # 一定のインターバルで評価する．\n",
    "            if steps % self.eval_interval == 0:\n",
    "                self.evaluate(steps)\n",
    "\n",
    "            if steps % self.save_interval == 0:\n",
    "                self.save_model(steps)\n",
    "\n",
    "    def save_model(self,steps):#モデルの重みを保存する関数\n",
    "         torch.save(self.algo.actor.to('cpu').state_dict(), 'weights/PPO_camera_handle'+str(steps)+'steps.pth')#self.algo.actor =PPO.actor\n",
    "         self.algo.actor.to(torch.device('cuda'))############################)\n",
    "\n",
    "\n",
    "\n",
    "\n",
    "\n",
    "    def evaluate(self, steps):#評価\n",
    "        \"\"\" 複数エピソード環境を動かし，平均収益を記録する． \"\"\"\n",
    "\n",
    "        returns = []\n",
    "        for _ in range(self.num_eval_episodes):#num_eval_episodes回episodeを繰り返し、報酬の平均を取る\n",
    "            state = self.env_test.reset()\n",
    "            done = False\n",
    "            episode_return = 0.0\n",
    "\n",
    "            while (not done):\n",
    "                action = self.algo.exploit(state)#最適行動を選択(決定論的な行動)\n",
    "                state, reward, done, _ = self.env_test.step(action)\n",
    "                episode_return += reward\n",
    "\n",
    "            returns.append(episode_return)\n",
    "\n",
    "        mean_return = np.mean(returns)\n",
    "        self.returns['step'].append(steps)#steps(トータルのステップ)\n",
    "        self.returns['return'].append(mean_return)\n",
    "\n",
    "        print(f'Num steps: {steps:<6}   '\n",
    "              f'Return: {mean_return:<5.1f}   '\n",
    "              f'Time: {self.time}')\n",
    "    \"\"\"\n",
    "    #wrap_monitor()が使えないのでvisualize()は使えない\n",
    "    def visualize(self):\n",
    "        # 1エピソード環境を動かし，mp4を再生する．\n",
    "        env = wrap_monitor(gym.make(self.env.unwrapped.spec.id))\n",
    "        state = env.reset()\n",
    "        done = False\n",
    "\n",
    "        while (not done):\n",
    "            action = self.algo.exploit(state)\n",
    "            state, _, done, _ = env.step(action)\n",
    "\n",
    "        del env\n",
    "        return play_mp4()\n",
    "    \"\"\"\n",
    "\n",
    "    def plot(self):\n",
    "        \"\"\" 平均収益のグラフを描画する． \"\"\"\n",
    "        fig = plt.figure(figsize=(8, 6))\n",
    "        plt.plot(self.returns['step'], self.returns['return'])\n",
    "        plt.xlabel('Steps', fontsize=24)\n",
    "        plt.ylabel('Return', fontsize=24)\n",
    "        plt.tick_params(labelsize=18)\n",
    "        plt.title(f'{self.env.unwrapped.spec.id}', fontsize=24)\n",
    "        plt.tight_layout()\n",
    "\n",
    "    @property#timeプロパティを読み取り限定で設定(getter)\n",
    "    def time(self):\n",
    "        \"\"\" 学習開始からの経過時間． \"\"\"\n",
    "        return str(timedelta(seconds=int(time() - self.start_time)))"
   ]
  },
  {
   "cell_type": "markdown",
   "metadata": {
    "colab_type": "text",
    "id": "YAFsbIKwxXO_"
   },
   "source": [
    "次章以降では，以下の抽象クラスを継承して，PPOとSACのアルゴリズムを記述したアルゴリズム(Trainerの `self.algo`の部分)を実装し，強化学習の処理を完成させていきます！"
   ]
  },
  {
   "cell_type": "code",
   "execution_count": 8,
   "metadata": {
    "colab": {},
    "colab_type": "code",
    "executionInfo": {
     "elapsed": 4423,
     "status": "ok",
     "timestamp": 1599831071703,
     "user": {
      "displayName": "山田悠貴",
      "photoUrl": "https://lh4.googleusercontent.com/-qjO3eS8zVqE/AAAAAAAAAAI/AAAAAAAAAYE/46U-7XBkpHM/s64/photo.jpg",
      "userId": "04773754472221904960"
     },
     "user_tz": -540
    },
    "id": "UngEASpOE__V"
   },
   "outputs": [],
   "source": [
    "class Algorithm(ABC):#抽象クラスを作成\n",
    "\n",
    "    def explore(self, state):\n",
    "        \"\"\" 確率論的な行動と，その行動の確率密度の対数 \\log(\\pi(a|s)) を返す． \"\"\"\n",
    "\n",
    "        cam_state = torch.tensor(state[0], dtype=torch.float, device=self.device).unsqueeze_(0).unsqueeze_(0)#(84*84)→(1,1,84,84)  #問題あり\n",
    "        pos_state = torch.tensor(state[1], dtype=torch.float, device=self.device).unsqueeze_(0)\n",
    "\n",
    "        state = [cam_state,pos_state]#########################numpyに替えれる?\n",
    "\n",
    "        with torch.no_grad():\n",
    "            action, log_pi = self.actor.sample(state)         #self.actorはAlgorithmクラスを継承したクラスにある?\n",
    "        return action.cpu().numpy()[0], log_pi.item()\n",
    "\n",
    "    def exploit(self, state):\n",
    "        \"\"\" 決定論的な行動を返す． \"\"\"\n",
    "       \n",
    "        cam_state = torch.tensor(state[0], dtype=torch.float, device=self.device).unsqueeze_(0).unsqueeze_(0)#(84*84)→(1,1,84,84)  #問題あり\n",
    "        pos_state = torch.tensor(state[1], dtype=torch.float, device=self.device).unsqueeze_(0)\n",
    "\n",
    "        #state = [cam_state,pos_state]##############################################\n",
    "\n",
    "        with torch.no_grad():\n",
    "            action = self.actor.forward(cam_state,pos_state)################################\n",
    "        return action.cpu().numpy()[0]\n",
    "\n",
    "    @abstractmethod#抽象メソッドを表すデコレーター\n",
    "    #抽象クラスを継承するクラスは抽象メソッドを実装しなければならなくなるのでクラスを作る際のルールになる\n",
    "    def is_update(self, steps):\n",
    "        \"\"\" 現在のトータルのステップ数(steps)を受け取り，アルゴリズムを学習するか否かを返す． \"\"\"\n",
    "        pass\n",
    "\n",
    "    @abstractmethod\n",
    "    def step(self, env, state, t, steps):\n",
    "        \"\"\" 環境(env)，現在の状態(state)，現在のエピソードのステップ数(t)，今までのトータルのステップ数(steps)を\n",
    "            受け取り，リプレイバッファへの保存などの処理を行い，状態・エピソードのステップ数を更新する．\n",
    "        \"\"\"\n",
    "        pass\n",
    "\n",
    "    @abstractmethod\n",
    "    def update(self):\n",
    "        \"\"\" 1回分の学習を行う． \"\"\"\n",
    "        pass"
   ]
  },
  {
   "cell_type": "markdown",
   "metadata": {
    "colab_type": "text",
    "id": "e6tuB-Ed4ULy"
   },
   "source": [
    "## 3.Proximal Policy Optimization(PPO)の実装"
   ]
  },
  {
   "cell_type": "markdown",
   "metadata": {
    "colab_type": "text",
    "id": "PBjDdY1sACOO"
   },
   "source": [
    "#### 3.1 [演習] 方策計算のための関数の実装"
   ]
  },
  {
   "cell_type": "markdown",
   "metadata": {
    "colab_type": "text",
    "id": "ByR90JN2ATX5"
   },
   "source": [
    "今回の演習では **共分散行列が対角なガウス分布に $\\tanh$ を適用した確率分布** をPPO・SACの方策として用います．以下では，共分散行列が対角なガウス分布を単にガウス分布と呼び，共分散行列の対角成分の平方根を単に標準偏差と呼ぶことにします．また，括弧で囲んだ表記 `(...)` は，TensorのSizeを表すことにします．\n",
    "\n",
    "方策は，学習時に探索を行うための**確率論的な行動選択**と，評価時に最適な行動を行うための**決定論的な行動選択**の2種類の行動選択を行います．確率論的な行動選択ではガウス分布からのサンプルに $\\tanh$ を適用したものを，決定論的な行動選択ではガウス分布の最頻値(平均)に $\\tanh$ を適用したものを行動とします．\n",
    "\n",
    "まず，確率論的な行動を計算した際の**行動の確率密度の対数 $\\log \\pi(a|s)$**を求める関数 `calculate_log_pi(log_stds, noises, actions)` を実装しましょう．ただし，引数の `log_stds` (標準偏差(分散の平方根)の対数)，`noises` (Reparametrization Trickにおける標準ガウス分布からのノイズ)，`actions` (行動)はすべて `(batch_size, |A|)` とし，行動の確率密度の対数は `(batch_size, 1)` で返します．\n",
    "\n"
   ]
  },
  {
   "cell_type": "markdown",
   "metadata": {
    "colab_type": "text",
    "id": "osqFBGB9muqU"
   },
   "source": [
    "(ヒント) Reparameterization Trickでは，標準ガウス分布からのノイズ $\\epsilon \\sim \\mathcal N(0, I)$ を用いて，平均 $\\mu$，標準偏差 $\\sigma$ からのサンプルを以下のように計算します．\n",
    "\n",
    "$$ u = \\mu + \\epsilon * \\sigma $$ $$ a = \\tanh(u) $$\n",
    "\n",
    "【余力がある人向け】\n",
    "\n",
    "確率密度関数は平行移動に関して不変なので，ガウス分布からのサンプル $u$ の確率密度 $p(u|s)$ は $\\mathcal N(0, \\sigma I)$ における $\\epsilon * \\sigma$ の確率密度として計算することができます．その後，$\\tanh$ による確率密度の変化を以下のように修正してあげましょう．\n",
    "\n",
    "確率密度関数 $\\pi(a|s)$ は $$ \\pi(a|s) = \\biggl|\\frac{du}{da}\\biggl|p(u|s) = \\frac{1}{1-a^2}p(u|s) $$\n",
    "\n",
    "$\\log$ をとると $$ \\begin{align} \\log\\pi(a|s) &= \\log p(u|s) - \\sum_{i=1}^{|\\mathcal A|} \\log (1 - a^{2}) \\end{align} $$\n",
    "\n",
    "(各actionの要素での確率の積にlogがかかったものを計算するので、総和をとります)"
   ]
  },
  {
   "cell_type": "code",
   "execution_count": 9,
   "metadata": {
    "colab": {},
    "colab_type": "code",
    "executionInfo": {
     "elapsed": 4413,
     "status": "ok",
     "timestamp": 1599831071704,
     "user": {
      "displayName": "山田悠貴",
      "photoUrl": "https://lh4.googleusercontent.com/-qjO3eS8zVqE/AAAAAAAAAAI/AAAAAAAAAYE/46U-7XBkpHM/s64/photo.jpg",
      "userId": "04773754472221904960"
     },
     "user_tz": -540
    },
    "id": "6nFzrtnyABdk"
   },
   "outputs": [],
   "source": [
    "def calculate_log_pi(log_stds, noises, actions):#標準偏差の対数(σ)、ノイズ(ε)、行動から行動の確率密度の対数(logπ(a|s))を求める関数\n",
    "    \"\"\" 確率論的な行動の確率密度を返す． \"\"\"\n",
    "\n",
    "    # NOTE: 入力はすべて (batch_size, |A|) となっているので，この関数では　batch_size　分の確率密度の対数 \\log \\pi(a|s) を\n",
    "    # それぞれ独立に計算し (batch_size, 1) で返します．\n",
    "\n",
    "    #from IPython.core.debugger import Pdb; Pdb().set_trace() #ブレークポイント\n",
    "\n",
    "    # ガウス分布 `N(0, stds * I)` における `noises * stds` の確率密度の対数(= \\log \\pi(u|a))を計算する．\n",
    "    stds = log_stds.exp()#標準偏差の対数→標準偏差\n",
    "    gaussian_log_probs = Normal(torch.zeros_like(stds), stds).log_prob(stds * noises).sum(dim=-1, keepdim=True)#logP(u|s)を計算\n",
    "    #平均0、標準変偏差stdの正規分布\n",
    "    # NOTE: gaussian_log_probs には (batch_size, 1) で表された確率密度の対数 \\log p(u|s) が入っています．\n",
    "\n",
    "    # [演習] その後，tanh による確率密度の変化を修正しましょう．\n",
    "    # (例)\n",
    "    # log_pis = gaussian_log_probs - ...\n",
    "    log_pis = gaussian_log_probs - torch.log(1 - actions.pow(2) + 1e-6).sum(dim=-1, keepdim=True)#logπ(a|s)の計算\n",
    "    #Reparameterization Trick　(tanh  による確率密度の変化)(上のテキストの最後の式)\n",
    "\n",
    "    return log_pis"
   ]
  },
  {
   "cell_type": "markdown",
   "metadata": {
    "colab_type": "text",
    "id": "qjfGow_woKEO"
   },
   "source": [
    "次に，Reparameterization Trickを用いて，確率的な行動 $a = \\tanh(\\mu + \\epsilon * \\sigma)$ とその行動の確率密度の対数 $\\log \\pi(a|s)$ を計算する関数 `reparameterize(means, log_stds)` を実装しましょう．ただし，引数の `means` (平均)と `log_stds` (標準偏差の対数)は `(batch_size, |A|)` とし，行動は `(batch_size, |A|)`，確率密度の対数は `(batch_size, 1)` で返します．"
   ]
  },
  {
   "cell_type": "code",
   "execution_count": 10,
   "metadata": {
    "colab": {},
    "colab_type": "code",
    "executionInfo": {
     "elapsed": 4403,
     "status": "ok",
     "timestamp": 1599831071705,
     "user": {
      "displayName": "山田悠貴",
      "photoUrl": "https://lh4.googleusercontent.com/-qjO3eS8zVqE/AAAAAAAAAAI/AAAAAAAAAYE/46U-7XBkpHM/s64/photo.jpg",
      "userId": "04773754472221904960"
     },
     "user_tz": -540
    },
    "id": "joEHUfnAoNel"
   },
   "outputs": [],
   "source": [
    "def reparameterize(means, log_stds):\n",
    "    \"\"\" Reparameterization Trickを用いて，確率論的な行動とその確率密度を返す． \"\"\"\n",
    "\n",
    "    # 標準偏差．\n",
    "    stds = log_stds.exp()\n",
    "\n",
    "    # [演習] Reparameterization Trickを用いて，標準ガウス分布からノイズをサンプリングし，確率論的な行動を計算しましょう．\n",
    "    # (例)\n",
    "    # noises = ...\n",
    "    # actions = ...\n",
    "    # 標準ガウス分布から，ノイズをサンプリングする．\n",
    "    noises = torch.randn_like(means)\n",
    "    # Reparameterization Trickを用いたN(means, stds)からのサンプルの計算．\n",
    "    us = means + noises * stds #μ+ϵ∗σ\n",
    "    # tanh　を適用し，確率論的な行動を計算する．\n",
    "    actions = torch.tanh(us) # a=tanh(μ+ϵ∗σ)\n",
    "\n",
    "    # 確率論的な行動の確率密度の対数を計算する．\n",
    "    log_pis = calculate_log_pi(log_stds, noises, actions)#logπ(a|s)\n",
    "\n",
    "    return actions, log_pis"
   ]
  },
  {
   "cell_type": "markdown",
   "metadata": {
    "colab_type": "text",
    "id": "LFHSQdjHBDNC"
   },
   "source": [
    "また，のちのち簡単に方策を実装できるように，ある平均・標準偏差の対数でパラメータ化したガウス分布 + $\\tanh$ の方策における，ある行動の確率密度の対数を計算する関数 `evaluate_lop_pi(means, log_stds, actions)` をあらかじめ定義しておきます．"
   ]
  },
  {
   "cell_type": "code",
   "execution_count": 11,
   "metadata": {
    "colab": {},
    "colab_type": "code",
    "executionInfo": {
     "elapsed": 4394,
     "status": "ok",
     "timestamp": 1599831071706,
     "user": {
      "displayName": "山田悠貴",
      "photoUrl": "https://lh4.googleusercontent.com/-qjO3eS8zVqE/AAAAAAAAAAI/AAAAAAAAAYE/46U-7XBkpHM/s64/photo.jpg",
      "userId": "04773754472221904960"
     },
     "user_tz": -540
    },
    "id": "JMabtapvCs2I"
   },
   "outputs": [],
   "source": [
    "def atanh(x):\n",
    "    \"\"\" tanh の逆関数． \"\"\"\n",
    "    return 0.5 * (torch.log(1 + x + 1e-6) - torch.log(1 - x + 1e-6))\n",
    "\n",
    "\n",
    "def evaluate_lop_pi(means, log_stds, actions):\n",
    "    \"\"\" 平均(mean)，標準偏差の対数(log_stds)でパラメータ化した方策における，行動(actions)の確率密度の対数を計算する． \"\"\"\n",
    "    noises = (atanh(actions) - means) / (log_stds.exp() + 1e-8)#atanh(actions)でuを求めて、u=μ+εσからnoiseεを求める\n",
    "    return calculate_log_pi(log_stds, noises, actions)#logπ(a|s)"
   ]
  },
  {
   "cell_type": "markdown",
   "metadata": {
    "colab_type": "text",
    "id": "_aDzmgu88eg6"
   },
   "source": [
    "### 3.2 [演習] ネットワークの実装"
   ]
  },
  {
   "cell_type": "markdown",
   "metadata": {
    "colab_type": "text",
    "id": "HBN4Kke02q8V"
   },
   "source": [
    "PPOの方策では，ユニット数64の隠れ層を2層もち，中間層の活性化関数に $\\tanh$ を用いたネットワークを構築します．このネットワークは，入力として状態を受け取り，**ガウス分布の平均**を出力します．また**ガウス分布の標準偏差の対数**を，学習するパラメータとして保持します．\n",
    "\n",
    "では早速，PPOの方策を関数近似するネットワークのクラス `PPOActor` を実装しましょう！ここでは，以下の4つのメソッドを実装します．\n",
    "\n",
    "- `__init__(self, state_shape, action_shape)`\n",
    "\n",
    "> 入力として状態を受け取り，**ガウス分布の平均**を出力するネットワークを構築します．また，**ガウス分布の標準偏差の対数**を表すパラメータを作成します．\n",
    "\n",
    "- `forward(self, states)`\n",
    "\n",
    "> `(batch_size, |S|)` の `states` を受け取り，決定論な行動 $a$ を `(batch_size, 1)`で返します．\n",
    "\n",
    "- `sample(self, states)`\n",
    "\n",
    "> `(batch_size, |S|)` の `states` を受け取り，確率論的な行動 $a$ とその行動の確率密度の対数 $\\log(\\pi(a|s))$ をそれぞれ `(batch_size, 1)` で返します．\n",
    "\n",
    "- `evaluate_log_pi(self, states, actions)`\n",
    "\n",
    "> `(batch_size, |S|)` の `states` と，`(batch_size, |A|)` の `actions` を受け取り，現在の方策における行動 `actions` の確率密度の対数を `(batch_size, 1)` で返します．\n"
   ]
  },
  {
   "cell_type": "code",
   "execution_count": 12,
   "metadata": {
    "colab": {
     "base_uri": "https://localhost:8080/",
     "height": 35
    },
    "colab_type": "code",
    "executionInfo": {
     "elapsed": 4380,
     "status": "ok",
     "timestamp": 1599831071706,
     "user": {
      "displayName": "山田悠貴",
      "photoUrl": "https://lh4.googleusercontent.com/-qjO3eS8zVqE/AAAAAAAAAAI/AAAAAAAAAYE/46U-7XBkpHM/s64/photo.jpg",
      "userId": "04773754472221904960"
     },
     "user_tz": -540
    },
    "id": "xCRKh-ocX_M_",
    "outputId": "13c64acd-0173-4e7d-c166-77a75ec2ad1c"
   },
   "outputs": [
    {
     "name": "stdout",
     "output_type": "stream",
     "text": [
      "7\n"
     ]
    }
   ],
   "source": [
    "def calculate_cnn_size(input_size,kernel_size,stride):\n",
    "  output_size = (input_size -kernel_size)/stride + 1\n",
    "  return output_size\n",
    "\n",
    "kernel_size1 = 8\n",
    "stride1 = 4\n",
    "kernel_size2 = 4\n",
    "stride2 =2\n",
    "kernel_size3 = 3\n",
    "stride3 =1\n",
    "input_size = 84\n",
    "\n",
    "output_size = calculate_cnn_size(input_size, kernel_size1, stride1)\n",
    "output_size = calculate_cnn_size(output_size, kernel_size2, stride2)\n",
    "output_size = calculate_cnn_size(output_size, kernel_size3, stride3)\n",
    "output_size = int(output_size)\n",
    "\n",
    "print(output_size)\n"
   ]
  },
  {
   "cell_type": "code",
   "execution_count": 13,
   "metadata": {
    "colab": {},
    "colab_type": "code",
    "executionInfo": {
     "elapsed": 4369,
     "status": "ok",
     "timestamp": 1599831071707,
     "user": {
      "displayName": "山田悠貴",
      "photoUrl": "https://lh4.googleusercontent.com/-qjO3eS8zVqE/AAAAAAAAAAI/AAAAAAAAAYE/46U-7XBkpHM/s64/photo.jpg",
      "userId": "04773754472221904960"
     },
     "user_tz": -540
    },
    "id": "KhNUtiaA8le7"
   },
   "outputs": [],
   "source": [
    "class PPOActor(nn.Module):\n",
    "    def __init__(self, state_shape, action_shape):\n",
    "        super().__init__()\n",
    "\n",
    "        #from IPython.core.debugger import Pdb; Pdb().set_trace()                        #ブレークポイント\n",
    "        self.kernel_size1 = 8\n",
    "        self.stride1 = 4\n",
    "        self.kernel_size2 = 4\n",
    "        self.stride2 =2\n",
    "        self.kernel_size3 = 3\n",
    "        self.stride3 =1\n",
    "        \n",
    "        self.block1 = nn.Sequential(\n",
    "          nn.Conv2d(state_shape[0][2], 32, kernel_size=self.kernel_size1, stride=self.stride1),  # 3x84x84 -> 32x20x20　 #state_shape[0][2]はcamera_shapeの3(RGB)\n",
    "          nn.ReLU(),\n",
    "          nn.Conv2d(32, 64, kernel_size=self.kernel_size2, stride= self.stride2),  # 32x20x20 -> 64x9x9\n",
    "          nn.ReLU(),\n",
    "          nn.Conv2d(64, 64, kernel_size=self.kernel_size3, stride=self.stride3),  # 64x9x9 -> 64x7x7\n",
    "          nn.ReLU()\n",
    "        )\n",
    "        \"\"\"\n",
    "        output_size = calculate_cnn_size(state_shape[0][2], self.kernel_size1, self.stride1)\n",
    "        output_size = calculate_cnn_size(output_size, self.kernel_size2, self.stride2)\n",
    "        output_size = calculate_cnn_size(output_size, self.kernel_size3, self.stride3)\n",
    "        output_size = int(output_size)\n",
    "        \"\"\"\n",
    "\n",
    "          \n",
    "        self.full_connection = nn.Sequential(\n",
    "           nn.Linear(in_features= 3138, out_features=64), # =64*output_size*output_size+state_shape[1][0]→3138         \n",
    "                                    nn.Tanh(),\n",
    "                                    nn.Linear(64, 64),\n",
    "                                    nn.Tanh(),\n",
    "                                    nn.Linear(64, action_shape[0])\n",
    "                                    )#行動の次元の数だけガウス分布を出力\n",
    "\n",
    "    # ガウス分布の標準偏差の対数を表す，学習するパラメータを作成します．\n",
    "        self.log_stds = nn.Parameter(torch.zeros(1, action_shape[0]))\n",
    "\n",
    "\n",
    "   \n",
    "    def forward(self,camera_state,pos_state):\n",
    "\n",
    "\n",
    "      #from IPython.core.debugger import Pdb; Pdb().set_trace()\n",
    "\n",
    "      x = self.block1(camera_state)#カメラ画像を畳み込み\n",
    "      x = x.view(x.size(0),-1)#　Flatten. 64x7x7　-> 3136 #(batch_size,3136)\n",
    "      \n",
    "      x = torch.cat([x,pos_state],dim=1)#cameraの特徴量とゴールまでの相対座標を統合\n",
    "\n",
    "      #from IPython.core.debugger import Pdb; Pdb().set_trace()#######################\n",
    "      #x.shape = torch.Size([1, 3138]\n",
    "\n",
    "      x = self.full_connection(x)#(batch_num,action_shape)####################################################問題あり\n",
    "\n",
    "      return torch.tanh(x)#ガウス分布の平均にtanhを適用したのが最適手法\n",
    "\n",
    "    def forward2(self,camera_state,pos_state):\n",
    "      x = self.block1(camera_state)#カメラ画像を畳み込み\n",
    "      x = x.view(x.size(0),-1)#　Flatten. 64x7x7　-> 3136 #(batch_size,3136)\n",
    "      \n",
    "      x = torch.cat([x,pos_state],dim=1)#cameraの特徴量とゴールまでの相対座標を統合\n",
    "\n",
    "      #from IPython.core.debugger import Pdb; Pdb().set_trace()#######################\n",
    "      #x.shape = torch.Size([1, 3138]\n",
    "\n",
    "      x = self.full_connection(x)#(batch_num,action_shape)####################################################問題あり\n",
    "\n",
    "      return x\n",
    "\n",
    "\n",
    "        \n",
    "                          \n",
    "    \"\"\"\n",
    "    def __init__(self, state_shape, action_shape):\n",
    "        super().__init__()\n",
    "\n",
    "        # 状態を受け取り，ガウス分布の平均を出力するネットワークを構築します\n",
    "        self.net = nn.Sequential(\n",
    "            nn.Linear(state_shape[0], 64),\n",
    "            nn.Tanh(),\n",
    "            nn.Linear(64, 64),\n",
    "            nn.Tanh(),\n",
    "            nn.Linear(64, action_shape[0]),#行動の次元の数だけガウス分布を出力\n",
    "        )\n",
    "\n",
    "        # ガウス分布の標準偏差の対数を表す，学習するパラメータを作成します．\n",
    "        self.log_stds = nn.Parameter(torch.zeros(1, action_shape[0]))\n",
    "\n",
    "    def forward(self, states):\n",
    "        # [演習] 決定論的な行動を計算し，返します．\n",
    "        # return ...\n",
    "        return torch.tanh(self.net(states))#ガウス分布の平均にtanhを適用したのが最適手法\n",
    "      \"\"\"\n",
    "    def sample(self, states):\n",
    "        # [演習] ガウス分布の平均と標準偏差から確率論的な行動と確率密度の対数を計算し，返します．\n",
    "        # (例)\n",
    "        # actions, log_pis = reparameterize(...)\n",
    "        # return actions, log_pis\n",
    "        means = self.forward2(states[0], states[1])\n",
    "        return reparameterize(means, self.log_stds)\n",
    "\n",
    "    def evaluate_log_pi(self, cam_states, pos_states, actions):\n",
    "        # 現在の方策における行動 actions の確率密度の対数を計算し，返します．\n",
    "        return evaluate_lop_pi(self.forward2(cam_states,pos_states), self.log_stds, actions)"
   ]
  },
  {
   "cell_type": "markdown",
   "metadata": {
    "colab_type": "text",
    "id": "GNC4aOG68end"
   },
   "source": [
    "続いて，PPOの状態価値を関数近似するネットワークのクラス `PPOCritic` を実装しましょう．このネットワークも，ユニット数64の隠れ層を2層もち，中間層の活性化関数に $\\tanh$ を用います．入力として状態を受け取り，状態価値を出力します．\n",
    "\n",
    "では，以下の2つのメソッドを実装しましょう．\n",
    "\n",
    "- `__init__(self, state_shape)`\n",
    "\n",
    "> 入力として状態受け取り，状態価値を出力するネットワークを構築します．\n",
    "\n",
    "- `forward(self, states)`\n",
    "\n",
    "> `(batch_size, |S|)` の `states` を受け取り，状態価値を `(batch_size, 1)` で返します．\n",
    "\n",
    "\n"
   ]
  },
  {
   "cell_type": "code",
   "execution_count": 14,
   "metadata": {
    "colab": {},
    "colab_type": "code",
    "executionInfo": {
     "elapsed": 4359,
     "status": "ok",
     "timestamp": 1599831071708,
     "user": {
      "displayName": "山田悠貴",
      "photoUrl": "https://lh4.googleusercontent.com/-qjO3eS8zVqE/AAAAAAAAAAI/AAAAAAAAAYE/46U-7XBkpHM/s64/photo.jpg",
      "userId": "04773754472221904960"
     },
     "user_tz": -540
    },
    "id": "is0PicZs-D3a"
   },
   "outputs": [],
   "source": [
    "class PPOCritic(nn.Module):\n",
    "    def __init__(self,state_shape):\n",
    "        super().__init__()\n",
    "\n",
    "        self.kernel_size1 = 8\n",
    "        self.stride1 = 4\n",
    "        self.kernel_size2 = 4\n",
    "        self.stride2 =2\n",
    "        self.kernel_size3 = 3\n",
    "        self.stride3 =1\n",
    "        \n",
    "        self.block1 = nn.Sequential(\n",
    "          nn.Conv2d(state_shape[0][2], 32, kernel_size=self.kernel_size1, stride=self.stride1),  # 3x84x84 -> 32x20x20　 #state_shape[0][2]はcamera_shapeの3(RGB)\n",
    "          nn.ReLU(),\n",
    "          nn.Conv2d(32, 64, kernel_size=self.kernel_size2, stride= self.stride2),  # 32x20x20 -> 64x9x9\n",
    "          nn.ReLU(),\n",
    "          nn.Conv2d(64, 64, kernel_size=self.kernel_size3, stride=self.stride3),  # 64x9x9 -> 64x7x7\n",
    "          nn.ReLU()\n",
    "        )\n",
    "        \"\"\"\n",
    "        output_size = calculate_cnn_size(state_shape[0][2], self.kernel_size1, self.stride1)\n",
    "        output_size = calculate_cnn_size(output_size, self.kernel_size2, self.stride2)\n",
    "        output_size = calculate_cnn_size(output_size, self.kernel_size3, self.stride3)\n",
    "        output_size = int(output_size)\n",
    "        \"\"\"\n",
    "\n",
    "        self.full_connection = nn.Sequential(nn.Linear(in_features=3138, out_features=64),#64*output_size*output_size+state_shape[1][0]→3138\n",
    "                                        nn.Tanh(),\n",
    "                                        nn.Linear(64, 64),\n",
    "                                        nn.Tanh(),\n",
    "                                        nn.Linear(64, 1))#状態を受け取り状態価値を出力\n",
    "\n",
    "      \n",
    "    def forward(self,camera_state,pos_state):\n",
    "        x = self.block1(camera_state)#カメラ画像を畳み込み\n",
    "        x = x.view(x.size(0),-1)#　Flatten. 64x7x7　-> 3136 #(batch_size,3136)\n",
    "        \n",
    "        x = torch.cat([x,pos_state],dim=1)#cameraの特徴量とゴールまでの相対座標を統合\n",
    "\n",
    "        #from IPython.core.debugger import Pdb; Pdb().set_trace()#####################################################\n",
    "\n",
    "        x = self.full_connection(x)#(batch_num,1)\n",
    "\n",
    "        return x\n",
    "\n",
    "\n",
    "\n",
    "    \"\"\"\n",
    "    def __init__(self, state_shape):\n",
    "        super().__init__()\n",
    "\n",
    "        # [演習] 状態を受け取り，状態価値を出力するネットワークを構築しましょう．\n",
    "        # (例)\n",
    "        self.net = nn.Sequential(\n",
    "            nn.Linear(state_shape[0], 64),\n",
    "            nn.Tanh(),\n",
    "            nn.Linear(64, 64),\n",
    "            nn.Tanh(),\n",
    "            nn.Linear(64, 1),\n",
    "        )\n",
    "    def forward(self, states):\n",
    "        # [演習] 状態価値を計算し，返します．\n",
    "        return self.net(states)\n",
    "    \"\"\""
   ]
  },
  {
   "cell_type": "markdown",
   "metadata": {
    "colab_type": "text",
    "id": "0gwH2XTaVotk"
   },
   "source": [
    "### 3.3 Generalized Advantage Estimation(GAE)の実装"
   ]
  },
  {
   "cell_type": "markdown",
   "metadata": {
    "colab_type": "text",
    "id": "qmBWfpMuVtUo"
   },
   "source": [
    "PPOでは，アドバンテージの推定に**Generalized Advantage Estimation**(GAE)[[4]](#scrollTo=HOq7n-OJboPr)を用います．GAEではnステップのアドバンテージ $\\hat A_t^{(n)} = r_t + \\gamma r_{t+1} + \\cdots + \\gamma^n V(s_{t+n}) - V(s_t)$ を用いて，以下のようにアドバンテージを推定します．\n",
    "\n",
    "$$\n",
    "\\hat A_t^{GAE}(\\lambda) = (1-\\lambda)(\\hat A_t^{(1)} + \\lambda \\hat A_t^{(2)} + \\lambda^2 \\hat A_t^{(3)} + \\cdots)\n",
    "$$\n",
    "\n",
    "このとき，TD誤差 $\\delta_t= r_t+ \\gamma V(s_{t+1}) - V(s_t)$ を用いると，以下のように式変形できます．(発展課題で導出に挑戦してみましょう！)\n",
    "\n",
    "$$\n",
    "\\hat A_t^{GAE}(\\lambda) = \\sum_{i=0}^{\\infty} (\\gamma \\lambda)^i \\delta_{t+i}\n",
    "$$\n",
    "\n",
    "従って，GAEは再帰的に計算することが可能です．ただし，実際にはロールアウト長を $T$ としたときに，$t = T + 1$ 以降のGAEをすべて $0$ と近似して計算を行います．\n",
    "\n",
    "$$\n",
    "\\hat A_t^{GAE}(\\lambda) = \\delta_t + (\\gamma \\lambda) \\hat A_{t+1}^{GAE}(\\lambda)\n",
    "$$\n",
    "\n",
    "\\\\\n",
    "またPPOでは，状態価値のターゲットを $\\lambda$-収益 $R_t(\\lambda)$ を用いて推定します．\n",
    "\n",
    "$$\n",
    "R_t(\\lambda) = \\hat A_t^{GAE}(\\lambda) + V(s_t)\n",
    "$$\n"
   ]
  },
  {
   "cell_type": "code",
   "execution_count": 15,
   "metadata": {
    "colab": {},
    "colab_type": "code",
    "executionInfo": {
     "elapsed": 4349,
     "status": "ok",
     "timestamp": 1599831071708,
     "user": {
      "displayName": "山田悠貴",
      "photoUrl": "https://lh4.googleusercontent.com/-qjO3eS8zVqE/AAAAAAAAAAI/AAAAAAAAAYE/46U-7XBkpHM/s64/photo.jpg",
      "userId": "04773754472221904960"
     },
     "user_tz": -540
    },
    "id": "bvbFfmsbVsoS"
   },
   "outputs": [],
   "source": [
    "def calculate_advantage(values, rewards, dones, gamma=0.995, lambd=0.997):\n",
    "    \"\"\" GAEを用いて，状態価値のターゲットとGAEを計算する． \"\"\"\n",
    "    #value[0]=V(St), value[-1]=V(T)\n",
    "    # TD誤差を計算する．\n",
    "    deltas = rewards + gamma * values[1:] * (1 - dones) - values[:-1]#δt =rt + γV(St+1)-V(St)より\n",
    "    #value[:-1](最初から最後の一つ前まで)\n",
    "    #deltas[0]=δt, deltas[-1]=δT\n",
    "\n",
    "    # GAEを初期化する．\n",
    "    advantages = torch.empty_like(rewards)\n",
    "\n",
    "    # 終端ステップを計算する．\n",
    "    advantages[-1] = deltas[-1]#AT^GAE(λ)=δT (A(T+1)^GAE(λ)=0より)\n",
    "\n",
    "    # 終端ステップの1つ前から，順番にGAEを計算していく．\n",
    "    for t in reversed(range(rewards.size(0) - 1)):\n",
    "        advantages[t] = deltas[t] + gamma * lambd * (1 - dones[t]) * advantages[t + 1]#At^GAE(λ)=δt+(γλ)A(t+1)^GAE(λ)\n",
    "\n",
    "    # 状態価値のターゲットをλ-収益として計算する．\n",
    "    targets = advantages + values[:-1] #Rt(λ)=A^GAEt(λ)+V(st)\n",
    "\n",
    "    # GAEを標準化する．\n",
    "    advantages = (advantages - advantages.mean()) / (advantages.std() + 1e-8)\n",
    "\n",
    "    return targets, advantages"
   ]
  },
  {
   "cell_type": "markdown",
   "metadata": {
    "colab_type": "text",
    "id": "9Ag6zR7a8eaE"
   },
   "source": [
    "### 3.4 [演習] 学習アルゴリズム(PPO)の実装"
   ]
  },
  {
   "cell_type": "markdown",
   "metadata": {
    "colab_type": "text",
    "id": "w9ZL471Cvmjb"
   },
   "source": [
    "まず，収集したデータを保存するためのバッファを用意します．ここでは，状態・行動・即時報酬・終了シグナル・確率密度の対数をロールアウト1回分保存することとします．このとき，状態のみ1つ分多く保存することに注意します(GAEの計算では，1ステップ先の状態価値を計算する必要があるので)．"
   ]
  },
  {
   "cell_type": "code",
   "execution_count": 16,
   "metadata": {
    "colab": {},
    "colab_type": "code",
    "executionInfo": {
     "elapsed": 4806,
     "status": "ok",
     "timestamp": 1599831072175,
     "user": {
      "displayName": "山田悠貴",
      "photoUrl": "https://lh4.googleusercontent.com/-qjO3eS8zVqE/AAAAAAAAAAI/AAAAAAAAAYE/46U-7XBkpHM/s64/photo.jpg",
      "userId": "04773754472221904960"
     },
     "user_tz": -540
    },
    "id": "w1TyJ7mm_Btu"
   },
   "outputs": [],
   "source": [
    "class RolloutBuffer:\n",
    "\n",
    "    def __init__(self, buffer_size, state_shape, action_shape, device=torch.device('cuda')):\n",
    "\n",
    "        # GPU上に保存するデータ．\n",
    "        seg_shape = [state_shape[0][2],state_shape[0][0],state_shape[0][1]]\n",
    "\n",
    "        self.states_camera = torch.empty((buffer_size + 1, *seg_shape), dtype=torch.float, device=device)#buffer_size(t～T+1,state_shape)\n",
    "        self.states_pos = torch.empty((buffer_size + 1, *state_shape[1]), dtype=torch.float, device=device)\n",
    "        \n",
    "        self.actions = torch.empty((buffer_size, *action_shape), dtype=torch.float, device=device)\n",
    "        self.rewards = torch.empty((buffer_size, 1), dtype=torch.float, device=device)\n",
    "        self.dones = torch.empty((buffer_size, 1), dtype=torch.float, device=device)\n",
    "        self.log_pis = torch.empty((buffer_size, 1), dtype=torch.float, device=device)\n",
    "\n",
    "        # 次にデータを挿入するインデックス．\n",
    "        self._p = 0\n",
    "        # バッファのサイズ．\n",
    "        self.buffer_size = buffer_size\n",
    "\n",
    "    def append(self, state, action, reward, done, log_pi):\n",
    "        self.states_camera[self._p].copy_(torch.from_numpy(state[0]).unsqueeze(0))\n",
    "        self.states_pos[self._p].copy_(torch.from_numpy(np.array(state[1])))\n",
    "\n",
    "        self.actions[self._p].copy_(torch.from_numpy(action))\n",
    "        self.rewards[self._p] = float(reward)\n",
    "        self.dones[self._p] = float(done)\n",
    "        self.log_pis[self._p] = float(log_pi)\n",
    "        self._p = (self._p + 1) % self.buffer_size\n",
    "\n",
    "    def append_last_state(self, last_state):\n",
    "        assert self._p == 0, 'Buffer needs to be full before appending last_state.'#assert bool値　:bool値がfalseの時エラーが発生する\n",
    "        self.states_camera[self.buffer_size].copy_(torch.from_numpy(last_state[0]))\n",
    "        self.states_pos[self.buffer_size].copy_(torch.from_numpy(np.array(last_state[1])))\n",
    "\n",
    "    def get(self):\n",
    "        assert self._p == 0, 'Buffer needs to be full before training.'\n",
    "        states = [ self.states_camera, self.states_pos]\n",
    "        return states , self.actions, self.rewards, self.dones, self.log_pis"
   ]
  },
  {
   "cell_type": "markdown",
   "metadata": {
    "colab_type": "text",
    "id": "aXPiwvrewX3_"
   },
   "source": [
    "では，いよいよPPOの学習アルゴリズムを実装していきましょう！\n",
    "\n",
    "今回の演習では，`update_critic` と `update_actor` の2つのメソッドを実装します．以下では，方策のネットワークのパラメータを $\\phi$，状態価値のネットワークのパラメータを $\\theta$ とします．また，ロールアウト長を $T$ とします．\n",
    "\n",
    "- `update_critic(self, states, targets)`\n",
    "\n",
    "> `(batch_size, |S|)` の `states` (状態)と `(batch_size, 1)` の `targets` (状態価値のターゲット)を受け取り，Criticのネットワークを更新します．\n",
    "\n",
    "> 状態価値のネットワークの損失関数は **平均二乗誤差** を用います．\n",
    "\n",
    "$$\n",
    "\\mathcal L^{PPO}_V(\\theta) = E_{t \\in [1, T]}[ (V_\\theta(s_t) - R_t(\\lambda))^2 ]\n",
    "$$\n",
    "\n",
    "- `update_actor(self, states, actions, log_pis_old, advantages)`\n",
    "\n",
    "> `(batch_size, |S|)` の `states` (状態)と `(batch_size, |A|)` の `actions` (行動)，そして `(batch_size, 1)` の `log_pis_old` (データ収集時の方策における行動の確率密度)と `advantages` (GAE)を受け取り，Actorのネットワークを更新します．\n",
    "\n",
    "> 方策のネットワークの損失関数は，以下の式を用います．ただし，過去の方策のネットワークのパラメータを $\\phi_{old}$ とします．また，損失関数の $\\epsilon$ は `self.clip_eps` に保持されています．\n",
    "\n",
    "$$\n",
    "\\mathcal L^{PPO}_\\pi(\\phi) = E_{t \\in [1, T]}[ \\min(\\frac{\\pi_\\phi(a_t|s_t)}{\\pi_{\\phi_{old}}(a_t|s_t)}\\hat A_t^{GAE}(\\lambda), \\; clip(\\frac{\\pi_\\phi(a_t|s_t)}{\\pi_{\\phi_{old}}(a_t|s_t)}, 1-\\epsilon, 1+\\epsilon) \\hat A_t^{GAE}(\\lambda) ]\n",
    "$$\n",
    "\n"
   ]
  },
  {
   "cell_type": "code",
   "execution_count": 17,
   "metadata": {
    "colab": {},
    "colab_type": "code",
    "executionInfo": {
     "elapsed": 4792,
     "status": "ok",
     "timestamp": 1599831072178,
     "user": {
      "displayName": "山田悠貴",
      "photoUrl": "https://lh4.googleusercontent.com/-qjO3eS8zVqE/AAAAAAAAAAI/AAAAAAAAAYE/46U-7XBkpHM/s64/photo.jpg",
      "userId": "04773754472221904960"
     },
     "user_tz": -540
    },
    "id": "tF2Z46rT-LND"
   },
   "outputs": [],
   "source": [
    "class PPO(Algorithm):\n",
    "              \n",
    "    def __init__(self, state_shape, action_shape, device=torch.device('cuda'), seed=0,\n",
    "                 batch_size=64, gamma=0.995, lr_actor=3e-4, lr_critic=3e-4,                            # batch_sizeを小さく#################################\n",
    "                 rollout_length=2048, num_updates=10, clip_eps=0.2, lambd=0.97,                          # rollout_length=2048を小さく11111111111111111111111111111111\n",
    "                 coef_ent=0.0, max_grad_norm=0.5):\n",
    "        super().__init__()\n",
    "\n",
    "        # シードを設定する．\n",
    "        np.random.seed(seed)\n",
    "        torch.manual_seed(seed)\n",
    "\n",
    "        # データ保存用のバッファ．\n",
    "        self.buffer = RolloutBuffer(\n",
    "            buffer_size=rollout_length,\n",
    "            state_shape=state_shape,\n",
    "            action_shape=action_shape,\n",
    "            device=device\n",
    "        )\n",
    "\n",
    "        # Actor-Criticのネットワークを構築する．\n",
    "        self.actor = PPOActor(\n",
    "            state_shape=state_shape,\n",
    "            action_shape=action_shape,\n",
    "        ).to(device)#学習するネットワークはGPU上に置く\n",
    "        self.critic = PPOCritic(\n",
    "            state_shape=state_shape,\n",
    "        ).to(device)\n",
    "\n",
    "        # オプティマイザ．\n",
    "        self.optim_actor = torch.optim.Adam(self.actor.parameters(), lr=lr_actor)\n",
    "        self.optim_critic = torch.optim.Adam(self.critic.parameters(), lr=lr_critic)\n",
    "\n",
    "        # その他パラメータ．\n",
    "        self.learning_steps = 0\n",
    "        self.device = device\n",
    "        self.batch_size = batch_size\n",
    "        self.gamma = gamma\n",
    "        self.rollout_length = rollout_length\n",
    "        self.num_updates = num_updates\n",
    "        self.clip_eps = clip_eps\n",
    "        self.lambd = lambd\n",
    "        self.coef_ent = coef_ent\n",
    "        self.max_grad_norm = max_grad_norm\n",
    "\n",
    "    def is_update(self, steps):\n",
    "        # ロールアウト1回分のデータが溜まったら学習する．\n",
    "        return steps % self.rollout_length == 0\n",
    "\n",
    "    def step(self, env, state, t, steps):\n",
    "        t += 1\n",
    "\n",
    "        #from IPython.core.debugger import Pdb; Pdb().set_trace()                                   #ブレークポイント\n",
    "\n",
    "        action, log_pi = self.explore(state)#self.explore=self.actor.sample(確率論的な行動)\n",
    "        next_state, reward, done, _ = env.step(action)\n",
    "\n",
    "        # ゲームオーバーではなく，最大ステップ数に到達したことでエピソードが終了した場合は，\n",
    "        # 本来であればその先もMDPが継続するはず．よって，終了シグナルをFalseにする．\n",
    "        if t == env._max_episode_steps:\n",
    "            done_masked = False\n",
    "        else:\n",
    "            done_masked = done\n",
    "\n",
    "        # バッファにデータを追加する．\n",
    "        self.buffer.append(state, action, reward, done_masked, log_pi)\n",
    "\n",
    "        # ロールアウトの終端Tに達したら，最終状態をバッファに追加する．\n",
    "        if steps % self.rollout_length == 0:\n",
    "            self.buffer.append_last_state(next_state)\n",
    "\n",
    "        # エピソードが終了した場合には，環境をリセットする．\n",
    "        if done:\n",
    "            t = 0\n",
    "            next_state = env.reset()\n",
    "\n",
    "        return next_state, t\n",
    "\n",
    "    def update(self):                                ###############問題あり\n",
    "        self.learning_steps += 1\n",
    "\n",
    "        #from IPython.core.debugger import Pdb; Pdb().set_trace()##########################################################################\n",
    "\n",
    "        states, actions, rewards, dones, log_pis = self.buffer.get()\n",
    "\n",
    "        with torch.no_grad():\n",
    "\n",
    "            values = self.critic(states[0],states[1])\n",
    "            #values = self.critic(states)#状態価値を計算する#111111111111111111111111111111111111111111111111111111111111111111111111111\n",
    "\n",
    "\n",
    "        targets, advantages = calculate_advantage(values, rewards, dones, self.gamma, self.lambd)\n",
    "\n",
    "        # バッファ内のデータを num_updates回ずつ使って，ネットワークを更新する．\n",
    "        for _ in range(self.num_updates):\n",
    "            # インデックスをシャッフルする．\n",
    "            indices = np.arange(self.rollout_length)\n",
    "            np.random.shuffle(indices)\n",
    "\n",
    "            # ミニバッチに分けて学習する．\n",
    "            for start in range(0, self.rollout_length, self.batch_size):\n",
    "                idxes = indices[start:start+self.batch_size]\n",
    "                self.update_critic(states[0][idxes],states[1][idxes], targets[idxes])#11111111111111\n",
    "                self.update_actor(states[0][idxes], states[1][idxes], actions[idxes], log_pis[idxes], advantages[idxes])\n",
    "\n",
    "    def update_critic(self, cam_states, pos_states, targets): #11111111111111111111111111111111111111111111111111111111111111111111111111\n",
    "        # [演習] 状態価値のネットワークの損失関数を計算しましょう．\n",
    "        # (例)\n",
    "        # loss_critic = ... self.critic(...) ...\n",
    "        loss_critic = (self.critic(cam_states,pos_states) - targets).pow_(2).mean()#.pow_(2)は2乗\n",
    "\n",
    "        self.optim_critic.zero_grad()\n",
    "        loss_critic.backward(retain_graph=False)\n",
    "        # 学習を安定させるヒューリスティックとして，(パラメーターの)勾配のノルムをクリッピングする．\n",
    "        nn.utils.clip_grad_norm_(self.critic.parameters(), self.max_grad_norm)#勾配爆発を防ぐために勾配のノルムに上限をかける(クリッピング)\n",
    "        self.optim_critic.step()\n",
    "\n",
    "    def update_actor(self, cam_states, pos_states, actions, log_pis_old, advantages):\n",
    "        # [演習] 方策のネットワークの損失関数を計算しましょう．\n",
    "        # (例)\n",
    "        # loss_actor = ... self.actor ...\n",
    "        log_pis = self.actor.evaluate_log_pi(cam_states, pos_states, actions)#log(πΦ(at|st))\n",
    "        mean_entropy = -log_pis.mean()\n",
    "\n",
    "        ratios = (log_pis - log_pis_old).exp_()#πΦ(at|st)/πΦold(at|st)\n",
    "        loss_actor1 = -ratios * advantages\n",
    "        loss_actor2 = -torch.clamp(\n",
    "            ratios,\n",
    "            1.0 - self.clip_eps,\n",
    "            1.0 + self.clip_eps\n",
    "        ) * advantages\n",
    "        loss_actor = torch.max(loss_actor1, loss_actor2).mean() - self.coef_ent * mean_entropy\n",
    "        #方策のネットワークの損失関数:LPPOπ(ϕ)\n",
    "\n",
    "        self.optim_actor.zero_grad()\n",
    "        loss_actor.backward(retain_graph=False)\n",
    "        # 学習を安定させるヒューリスティックとして，勾配のノルムをクリッピングする．\n",
    "        nn.utils.clip_grad_norm_(self.actor.parameters(), self.max_grad_norm)\n",
    "        self.optim_actor.step()"
   ]
  },
  {
   "cell_type": "markdown",
   "metadata": {
    "colab_type": "text",
    "id": "h6A_Vf5SBHgU"
   },
   "source": [
    "### 3.5 実験"
   ]
  },
  {
   "cell_type": "markdown",
   "metadata": {
    "colab_type": "text",
    "id": "mKHWuYCV1WYI"
   },
   "source": [
    "それでは，実装したPPOを学習させてみましょう！"
   ]
  },
  {
   "cell_type": "markdown",
   "metadata": {
    "colab_type": "text",
    "id": "-B0hc3Q3KqAs"
   },
   "source": [
    "#### InvertedPendulumBulletEnv-v0\n",
    "\n"
   ]
  },
  {
   "cell_type": "markdown",
   "metadata": {
    "colab_type": "text",
    "id": "KIJrWfugiC9v"
   },
   "source": [
    "まず，`InvertedPendulumBulletEnv-v0` でPPOを $5 \\times 10^4$ ステップ学習させてみましょう！学習には3~5分ほどかかります．うまく学習できると，平均収益が1000に達します．"
   ]
  },
  {
   "cell_type": "code",
   "execution_count": 18,
   "metadata": {
    "colab": {},
    "colab_type": "code",
    "executionInfo": {
     "elapsed": 7553,
     "status": "ok",
     "timestamp": 1599831074951,
     "user": {
      "displayName": "山田悠貴",
      "photoUrl": "https://lh4.googleusercontent.com/-qjO3eS8zVqE/AAAAAAAAAAI/AAAAAAAAAYE/46U-7XBkpHM/s64/photo.jpg",
      "userId": "04773754472221904960"
     },
     "user_tz": -540
    },
    "id": "H1SteWpiLOnH"
   },
   "outputs": [],
   "source": [
    "ENV_ID = 'pybullet_handle-v0'\n",
    "SEED = 0\n",
    "NUM_STEPS = 5*10 ** 4\n",
    "EVAL_INTERVAL = 1000\n",
    "NUM_EVAL_EPISODES = 5\n",
    "SAVE_INTERVAL = 5*10**4\n",
    "\n",
    "env = gym.make(ENV_ID)\n",
    "env_test = gym.make(ENV_ID)\n",
    "\n",
    "algo = PPO(\n",
    "    state_shape=[env.observation_space_camera.shape, env.observation_space_cordinate.shape],\n",
    "    action_shape=env.action_space.shape,\n",
    "    seed=SEED\n",
    ")\n",
    "\n",
    "trainer = Trainer(\n",
    "    env=env,\n",
    "    env_test=env_test,\n",
    "    algo=algo,\n",
    "    seed=SEED,\n",
    "    num_steps=NUM_STEPS,\n",
    "    eval_interval=EVAL_INTERVAL,\n",
    "    num_eval_episodes= NUM_EVAL_EPISODES,\n",
    "    save_interval = SAVE_INTERVAL \n",
    ")"
   ]
  },
  {
   "cell_type": "code",
   "execution_count": 19,
   "metadata": {
    "colab": {
     "base_uri": "https://localhost:8080/",
     "height": 35
    },
    "colab_type": "code",
    "executionInfo": {
     "elapsed": 7545,
     "status": "ok",
     "timestamp": 1599831074953,
     "user": {
      "displayName": "山田悠貴",
      "photoUrl": "https://lh4.googleusercontent.com/-qjO3eS8zVqE/AAAAAAAAAAI/AAAAAAAAAYE/46U-7XBkpHM/s64/photo.jpg",
      "userId": "04773754472221904960"
     },
     "user_tz": -540
    },
    "id": "_Hf356-jYtOj",
    "outputId": "4c7a2f6a-4edc-436b-b4be-6237c8cd5757"
   },
   "outputs": [
    {
     "name": "stderr",
     "output_type": "stream",
     "text": [
      "ERROR:root:No traceback has been produced, nothing to debug.\n"
     ]
    }
   ],
   "source": [
    "% debug"
   ]
  },
  {
   "cell_type": "code",
   "execution_count": 20,
   "metadata": {
    "colab": {
     "base_uri": "https://localhost:8080/",
     "height": 906
    },
    "colab_type": "code",
    "executionInfo": {
     "elapsed": 14511084,
     "status": "ok",
     "timestamp": 1599845578508,
     "user": {
      "displayName": "山田悠貴",
      "photoUrl": "https://lh4.googleusercontent.com/-qjO3eS8zVqE/AAAAAAAAAAI/AAAAAAAAAYE/46U-7XBkpHM/s64/photo.jpg",
      "userId": "04773754472221904960"
     },
     "user_tz": -540
    },
    "id": "ERisARBfrgVW",
    "outputId": "72bd1c1b-c59b-4175-9375-cb791fff7abc"
   },
   "outputs": [
    {
     "name": "stdout",
     "output_type": "stream",
     "text": [
      "Num steps: 1000     Return: -26330.0   Time: 0:04:08\n",
      "Num steps: 2000     Return: -25060.7   Time: 0:09:19\n",
      "Num steps: 3000     Return: -32340.7   Time: 0:14:34\n",
      "Num steps: 4000     Return: -14827.0   Time: 0:19:32\n",
      "Num steps: 5000     Return: -17573.9   Time: 0:24:47\n",
      "Num steps: 6000     Return: -40450.4   Time: 0:29:59\n",
      "Num steps: 7000     Return: -5253.6   Time: 0:35:23\n",
      "Num steps: 8000     Return: -4425.2   Time: 0:39:59\n",
      "Num steps: 9000     Return: -4189.1   Time: 0:44:40\n",
      "Num steps: 10000    Return: -4413.1   Time: 0:49:58\n",
      "Num steps: 11000    Return: -5861.6   Time: 0:55:15\n",
      "Num steps: 12000    Return: -8485.8   Time: 1:00:28\n",
      "Num steps: 13000    Return: -3897.0   Time: 1:04:32\n",
      "Num steps: 14000    Return: -8848.9   Time: 1:09:54\n",
      "Num steps: 15000    Return: -31594.3   Time: 1:15:07\n",
      "Num steps: 16000    Return: -21088.4   Time: 1:19:20\n",
      "Num steps: 17000    Return: -18294.3   Time: 1:24:34\n",
      "Num steps: 18000    Return: -23727.1   Time: 1:29:45\n",
      "Num steps: 19000    Return: -9314.2   Time: 1:35:01\n",
      "Num steps: 20000    Return: -4527.3   Time: 1:40:13\n",
      "Num steps: 21000    Return: -2438.0   Time: 1:45:24\n",
      "Num steps: 22000    Return: -1551.4   Time: 1:49:22\n",
      "Num steps: 23000    Return: -3219.8   Time: 1:54:27\n",
      "Num steps: 24000    Return: -13613.4   Time: 1:58:44\n",
      "Num steps: 25000    Return: -7567.5   Time: 2:04:04\n",
      "Num steps: 26000    Return: -9201.7   Time: 2:08:47\n",
      "Num steps: 27000    Return: -9046.3   Time: 2:14:03\n",
      "Num steps: 28000    Return: -11173.7   Time: 2:18:30\n",
      "Num steps: 29000    Return: -7989.1   Time: 2:22:43\n",
      "Num steps: 30000    Return: -19777.7   Time: 2:26:52\n",
      "Num steps: 31000    Return: -12584.4   Time: 2:31:57\n",
      "Num steps: 32000    Return: -19329.9   Time: 2:36:03\n",
      "Num steps: 33000    Return: -11553.2   Time: 2:41:28\n",
      "Num steps: 34000    Return: -15059.9   Time: 2:46:34\n",
      "Num steps: 35000    Return: -10305.1   Time: 2:50:45\n",
      "Num steps: 36000    Return: -18911.0   Time: 2:55:03\n",
      "Num steps: 37000    Return: -15731.7   Time: 3:00:10\n",
      "Num steps: 38000    Return: -11363.5   Time: 3:04:30\n",
      "Num steps: 39000    Return: -14905.3   Time: 3:09:37\n",
      "Num steps: 40000    Return: -19291.9   Time: 3:14:42\n",
      "Num steps: 41000    Return: -8775.2   Time: 3:19:49\n",
      "Num steps: 42000    Return: -10377.5   Time: 3:23:35\n",
      "Num steps: 43000    Return: -18097.8   Time: 3:28:13\n",
      "Num steps: 44000    Return: -12113.7   Time: 3:32:40\n",
      "Num steps: 45000    Return: -12089.6   Time: 3:37:41\n",
      "Num steps: 46000    Return: -14823.1   Time: 3:42:42\n",
      "Num steps: 47000    Return: -11375.8   Time: 3:47:42\n",
      "Num steps: 48000    Return: -9020.0   Time: 3:52:59\n",
      "Num steps: 49000    Return: -11174.9   Time: 3:57:34\n",
      "Num steps: 50000    Return: -14767.3   Time: 4:01:42\n"
     ]
    }
   ],
   "source": [
    "trainer.train()"
   ]
  },
  {
   "cell_type": "code",
   "execution_count": 21,
   "metadata": {
    "colab": {
     "base_uri": "https://localhost:8080/",
     "height": 35
    },
    "colab_type": "code",
    "executionInfo": {
     "elapsed": 14511075,
     "status": "ok",
     "timestamp": 1599845578513,
     "user": {
      "displayName": "山田悠貴",
      "photoUrl": "https://lh4.googleusercontent.com/-qjO3eS8zVqE/AAAAAAAAAAI/AAAAAAAAAYE/46U-7XBkpHM/s64/photo.jpg",
      "userId": "04773754472221904960"
     },
     "user_tz": -540
    },
    "id": "x8qybjQvdXgv",
    "outputId": "68e53cb7-2586-4851-bbfe-3cbc418c75e9"
   },
   "outputs": [
    {
     "name": "stderr",
     "output_type": "stream",
     "text": [
      "ERROR:root:No traceback has been produced, nothing to debug.\n"
     ]
    }
   ],
   "source": [
    "% debug"
   ]
  },
  {
   "cell_type": "code",
   "execution_count": 22,
   "metadata": {
    "colab": {
     "base_uri": "https://localhost:8080/",
     "height": 441
    },
    "colab_type": "code",
    "executionInfo": {
     "elapsed": 14511068,
     "status": "ok",
     "timestamp": 1599845578514,
     "user": {
      "displayName": "山田悠貴",
      "photoUrl": "https://lh4.googleusercontent.com/-qjO3eS8zVqE/AAAAAAAAAAI/AAAAAAAAAYE/46U-7XBkpHM/s64/photo.jpg",
      "userId": "04773754472221904960"
     },
     "user_tz": -540
    },
    "id": "sXz2BSmSEF0P",
    "outputId": "d2631c60-5675-4799-932d-093ea6047b8c"
   },
   "outputs": [
    {
     "data": {
      "image/png": "[encoded data removed]",
      "text/plain": [
       "<Figure size 576x432 with 1 Axes>"
      ]
     },
     "metadata": {
      "needs_background": "light",
      "tags": []
     },
     "output_type": "display_data"
    }
   ],
   "source": [
    "trainer.plot()"
   ]
  },
  {
   "cell_type": "code",
   "execution_count": 23,
   "metadata": {
    "colab": {},
    "colab_type": "code",
    "executionInfo": {
     "elapsed": 14511059,
     "status": "ok",
     "timestamp": 1599845578515,
     "user": {
      "displayName": "山田悠貴",
      "photoUrl": "https://lh4.googleusercontent.com/-qjO3eS8zVqE/AAAAAAAAAAI/AAAAAAAAAYE/46U-7XBkpHM/s64/photo.jpg",
      "userId": "04773754472221904960"
     },
     "user_tz": -540
    },
    "id": "a_DIEOFYEDsb"
   },
   "outputs": [],
   "source": [
    "#trainer.visualize()"
   ]
  },
  {
   "cell_type": "code",
   "execution_count": 24,
   "metadata": {
    "colab": {},
    "colab_type": "code",
    "executionInfo": {
     "elapsed": 14511051,
     "status": "ok",
     "timestamp": 1599845578516,
     "user": {
      "displayName": "山田悠貴",
      "photoUrl": "https://lh4.googleusercontent.com/-qjO3eS8zVqE/AAAAAAAAAAI/AAAAAAAAAYE/46U-7XBkpHM/s64/photo.jpg",
      "userId": "04773754472221904960"
     },
     "user_tz": -540
    },
    "id": "99-3qSCvJQgJ"
   },
   "outputs": [],
   "source": [
    "del env\n",
    "del env_test\n",
    "del algo\n",
    "del trainer"
   ]
  }
 ],
 "metadata": {
  "accelerator": "GPU",
  "colab": {
   "collapsed_sections": [],
   "machine_shape": "hm",
   "name": "final_assignment2_handle.ipynb",
   "provenance": [
    {
     "file_id": "1zRMEFgwX7INg5xA7sC1YfRSufWauHsRS",
     "timestamp": 1597839901472
    }
   ]
  },
  "kernelspec": {
   "display_name": "Python 3",
   "language": "python",
   "name": "python3"
  },
  "language_info": {
   "codemirror_mode": {
    "name": "ipython",
    "version": 3
   },
   "file_extension": ".py",
   "mimetype": "text/x-python",
   "name": "python",
   "nbconvert_exporter": "python",
   "pygments_lexer": "ipython3",
   "version": "3.7.6"
  }
 },
 "nbformat": 4,
 "nbformat_minor": 1
}
